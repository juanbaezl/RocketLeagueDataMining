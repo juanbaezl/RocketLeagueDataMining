{
 "cells": [
  {
   "cell_type": "markdown",
   "metadata": {},
   "source": [
    "# Proyecto\n",
    "## Integrantes\n",
    "- Juan Sebastian Ospina \n",
    "- Juan Carlos Baez\n",
    "    \n",
    "Dataset: [Rocket League Skillshots Data Set](https://archive.ics.uci.edu/ml/datasets/Rocket+League+Skillshots+Data+Set)\n",
    "#### Entender el negocio\n",
    "\n",
    "El dataset trata sobre el video juego Rocket League el cual trata de anotar goles usando carros, en nuestro caso vamos a evaluar según diferentes atributos de como sucedió una jugada y si esta terminó en gol.\n",
    "\n",
    "### Entender el dataset\n",
    "El dataset se maneja con la siguiente estructura:  \n",
    "Skill (clase del dataset): \n",
    "1. BallAcceleration_1, Time_1, ..., jump_1  \n",
    "2. BallAcceleration_2, Time_2, ..., jump_2  \n",
    "    ...    \n",
    "      \n",
    "Siguiente Skill\n",
    "  \n",
    "En este dataset tenemos los siguientes atributos:\n",
    "- BallAcceleration: real -> Hace referencia a la aceleración de la pelota. \n",
    "- Time: real -> Hace referencia al tiempo que duró la jugada.\n",
    "- DistanceWall -> Hace referencia a la distancia que el jugador estaba de la pared.\n",
    "- DistanceCeil -> Hace referencia a la distancia que el jugador estaba del techo.\n",
    "- DistanceBall -> Hace referencia a la distancia que el jugador estaba de la pelota.\n",
    "- PlayerSpeed -> Hace referencia a la velocidad del jugador.\n",
    "- BallSpeed -> Hace referencia a la velocidad de la pelota.\n",
    "- up -> Hace referencia a si el jugador oprimia el boton que lo hacia ir hacia arriba.\n",
    "- accelerate -> Hace referencia oprimia el boton que lo hacia acelerar.\n",
    "- slow -> Hace referencia oprimia el boton que lo hacia desacelerar.\n",
    "- goal -> Hace referencia a si la jugada terminó en gol.\n",
    "- left -> Hace referencia oprimia el boton que lo hacia ir hacia la izquierda.\n",
    "- boost -> Hace referencia oprimia el boton que lo hacia activar el boost de aceleración.\n",
    "- camera -> Hace referencia oprimia el boton que lo hacia cambiar de tipo de camara.\n",
    "- down -> Hace referencia oprimia el boton que lo hacia ir hacia abajo.\n",
    "- right -> Hace referencia oprimia el boton que lo hacia ir hacia la derecha.\n",
    "- slide -> Hace referencia oprimia el boton que lo hacia deslizarse.\n",
    "- jump -> Hace referencia oprimia el boton que lo hacia saltar.\n",
    "\n",
    "Junto con la clase skill que hace referencia a la skill o movimiento usado en la jugada, la cual se representa de la siguiente forma:\n",
    "- -1: noise\n",
    "- 1: ceiling shot\n",
    "- 2: power shot\n",
    "- 3: waving dash\n",
    "- 5: air dribble\n",
    "- 6: front flick\n",
    "- 7: musty flick"
   ]
  },
  {
   "cell_type": "code",
   "execution_count": 7,
   "metadata": {},
   "outputs": [
    {
     "ename": "AttributeError",
     "evalue": "partially initialized module 'pandas' has no attribute 'core' (most likely due to a circular import)",
     "output_type": "error",
     "traceback": [
      "\u001b[1;31m---------------------------------------------------------------------------\u001b[0m",
      "\u001b[1;31mAttributeError\u001b[0m                            Traceback (most recent call last)",
      "\u001b[1;32mc:\\Users\\juanb\\OneDrive\\Documentos\\Universidad\\MIIND\\proyecto\\rocket_league_skillshots.ipynb Cell 2'\u001b[0m in \u001b[0;36m<module>\u001b[1;34m\u001b[0m\n\u001b[1;32m----> <a href='vscode-notebook-cell:/c%3A/Users/juanb/OneDrive/Documentos/Universidad/MIIND/proyecto/rocket_league_skillshots.ipynb#ch0000000?line=0'>1</a>\u001b[0m \u001b[39mimport\u001b[39;00m \u001b[39mpandas\u001b[39;00m \u001b[39mas\u001b[39;00m \u001b[39mpd\u001b[39;00m\n\u001b[0;32m      <a href='vscode-notebook-cell:/c%3A/Users/juanb/OneDrive/Documentos/Universidad/MIIND/proyecto/rocket_league_skillshots.ipynb#ch0000000?line=1'>2</a>\u001b[0m filename1 \u001b[39m=\u001b[39m \u001b[39m'\u001b[39m\u001b[39mrocket_league_skillshots.data\u001b[39m\u001b[39m'\u001b[39m\n\u001b[0;32m      <a href='vscode-notebook-cell:/c%3A/Users/juanb/OneDrive/Documentos/Universidad/MIIND/proyecto/rocket_league_skillshots.ipynb#ch0000000?line=2'>3</a>\u001b[0m data \u001b[39m=\u001b[39m pd\u001b[39m.\u001b[39mread_csv(filename1,skiprows\u001b[39m=\u001b[39m\u001b[39m2\u001b[39m,nrows\u001b[39m=\u001b[39m\u001b[39m35\u001b[39m)\n",
      "File \u001b[1;32m~\\AppData\\Local\\Programs\\Python\\Python39\\lib\\site-packages\\pandas\\__init__.py:135\u001b[0m, in \u001b[0;36m<module>\u001b[1;34m\u001b[0m\n\u001b[0;32m    <a href='file:///c%3A/Users/juanb/AppData/Local/Programs/Python/Python39/lib/site-packages/pandas/__init__.py?line=116'>117</a>\u001b[0m \u001b[39mfrom\u001b[39;00m \u001b[39mpandas\u001b[39;00m\u001b[39m.\u001b[39;00m\u001b[39mcore\u001b[39;00m\u001b[39m.\u001b[39;00m\u001b[39mcomputation\u001b[39;00m\u001b[39m.\u001b[39;00m\u001b[39mapi\u001b[39;00m \u001b[39mimport\u001b[39;00m \u001b[39meval\u001b[39m\n\u001b[0;32m    <a href='file:///c%3A/Users/juanb/AppData/Local/Programs/Python/Python39/lib/site-packages/pandas/__init__.py?line=118'>119</a>\u001b[0m \u001b[39mfrom\u001b[39;00m \u001b[39mpandas\u001b[39;00m\u001b[39m.\u001b[39;00m\u001b[39mcore\u001b[39;00m\u001b[39m.\u001b[39;00m\u001b[39mreshape\u001b[39;00m\u001b[39m.\u001b[39;00m\u001b[39mapi\u001b[39;00m \u001b[39mimport\u001b[39;00m (\n\u001b[0;32m    <a href='file:///c%3A/Users/juanb/AppData/Local/Programs/Python/Python39/lib/site-packages/pandas/__init__.py?line=119'>120</a>\u001b[0m     concat,\n\u001b[0;32m    <a href='file:///c%3A/Users/juanb/AppData/Local/Programs/Python/Python39/lib/site-packages/pandas/__init__.py?line=120'>121</a>\u001b[0m     lreshape,\n\u001b[1;32m   (...)\u001b[0m\n\u001b[0;32m    <a href='file:///c%3A/Users/juanb/AppData/Local/Programs/Python/Python39/lib/site-packages/pandas/__init__.py?line=131'>132</a>\u001b[0m     qcut,\n\u001b[0;32m    <a href='file:///c%3A/Users/juanb/AppData/Local/Programs/Python/Python39/lib/site-packages/pandas/__init__.py?line=132'>133</a>\u001b[0m )\n\u001b[1;32m--> <a href='file:///c%3A/Users/juanb/AppData/Local/Programs/Python/Python39/lib/site-packages/pandas/__init__.py?line=134'>135</a>\u001b[0m \u001b[39mfrom\u001b[39;00m \u001b[39mpandas\u001b[39;00m \u001b[39mimport\u001b[39;00m api, arrays, errors, io, plotting, testing, tseries\n\u001b[0;32m    <a href='file:///c%3A/Users/juanb/AppData/Local/Programs/Python/Python39/lib/site-packages/pandas/__init__.py?line=135'>136</a>\u001b[0m \u001b[39mfrom\u001b[39;00m \u001b[39mpandas\u001b[39;00m\u001b[39m.\u001b[39;00m\u001b[39mutil\u001b[39;00m\u001b[39m.\u001b[39;00m\u001b[39m_print_versions\u001b[39;00m \u001b[39mimport\u001b[39;00m show_versions\n\u001b[0;32m    <a href='file:///c%3A/Users/juanb/AppData/Local/Programs/Python/Python39/lib/site-packages/pandas/__init__.py?line=137'>138</a>\u001b[0m \u001b[39mfrom\u001b[39;00m \u001b[39mpandas\u001b[39;00m\u001b[39m.\u001b[39;00m\u001b[39mio\u001b[39;00m\u001b[39m.\u001b[39;00m\u001b[39mapi\u001b[39;00m \u001b[39mimport\u001b[39;00m (\n\u001b[0;32m    <a href='file:///c%3A/Users/juanb/AppData/Local/Programs/Python/Python39/lib/site-packages/pandas/__init__.py?line=138'>139</a>\u001b[0m     \u001b[39m# excel\u001b[39;00m\n\u001b[0;32m    <a href='file:///c%3A/Users/juanb/AppData/Local/Programs/Python/Python39/lib/site-packages/pandas/__init__.py?line=139'>140</a>\u001b[0m     ExcelFile,\n\u001b[1;32m   (...)\u001b[0m\n\u001b[0;32m    <a href='file:///c%3A/Users/juanb/AppData/Local/Programs/Python/Python39/lib/site-packages/pandas/__init__.py?line=167'>168</a>\u001b[0m     read_spss,\n\u001b[0;32m    <a href='file:///c%3A/Users/juanb/AppData/Local/Programs/Python/Python39/lib/site-packages/pandas/__init__.py?line=168'>169</a>\u001b[0m )\n",
      "File \u001b[1;32m~\\AppData\\Local\\Programs\\Python\\Python39\\lib\\site-packages\\pandas\\testing.py:6\u001b[0m, in \u001b[0;36m<module>\u001b[1;34m\u001b[0m\n\u001b[0;32m      <a href='file:///c%3A/Users/juanb/AppData/Local/Programs/Python/Python39/lib/site-packages/pandas/testing.py?line=0'>1</a>\u001b[0m \u001b[39m\"\"\"\u001b[39;00m\n\u001b[0;32m      <a href='file:///c%3A/Users/juanb/AppData/Local/Programs/Python/Python39/lib/site-packages/pandas/testing.py?line=1'>2</a>\u001b[0m \u001b[39mPublic testing utility functions.\u001b[39;00m\n\u001b[0;32m      <a href='file:///c%3A/Users/juanb/AppData/Local/Programs/Python/Python39/lib/site-packages/pandas/testing.py?line=2'>3</a>\u001b[0m \u001b[39m\"\"\"\u001b[39;00m\n\u001b[1;32m----> <a href='file:///c%3A/Users/juanb/AppData/Local/Programs/Python/Python39/lib/site-packages/pandas/testing.py?line=5'>6</a>\u001b[0m \u001b[39mfrom\u001b[39;00m \u001b[39mpandas\u001b[39;00m\u001b[39m.\u001b[39;00m\u001b[39m_testing\u001b[39;00m \u001b[39mimport\u001b[39;00m (\n\u001b[0;32m      <a href='file:///c%3A/Users/juanb/AppData/Local/Programs/Python/Python39/lib/site-packages/pandas/testing.py?line=6'>7</a>\u001b[0m     assert_extension_array_equal,\n\u001b[0;32m      <a href='file:///c%3A/Users/juanb/AppData/Local/Programs/Python/Python39/lib/site-packages/pandas/testing.py?line=7'>8</a>\u001b[0m     assert_frame_equal,\n\u001b[0;32m      <a href='file:///c%3A/Users/juanb/AppData/Local/Programs/Python/Python39/lib/site-packages/pandas/testing.py?line=8'>9</a>\u001b[0m     assert_index_equal,\n\u001b[0;32m     <a href='file:///c%3A/Users/juanb/AppData/Local/Programs/Python/Python39/lib/site-packages/pandas/testing.py?line=9'>10</a>\u001b[0m     assert_series_equal,\n\u001b[0;32m     <a href='file:///c%3A/Users/juanb/AppData/Local/Programs/Python/Python39/lib/site-packages/pandas/testing.py?line=10'>11</a>\u001b[0m )\n\u001b[0;32m     <a href='file:///c%3A/Users/juanb/AppData/Local/Programs/Python/Python39/lib/site-packages/pandas/testing.py?line=12'>13</a>\u001b[0m __all__ \u001b[39m=\u001b[39m [\n\u001b[0;32m     <a href='file:///c%3A/Users/juanb/AppData/Local/Programs/Python/Python39/lib/site-packages/pandas/testing.py?line=13'>14</a>\u001b[0m     \u001b[39m\"\u001b[39m\u001b[39massert_extension_array_equal\u001b[39m\u001b[39m\"\u001b[39m,\n\u001b[0;32m     <a href='file:///c%3A/Users/juanb/AppData/Local/Programs/Python/Python39/lib/site-packages/pandas/testing.py?line=14'>15</a>\u001b[0m     \u001b[39m\"\u001b[39m\u001b[39massert_frame_equal\u001b[39m\u001b[39m\"\u001b[39m,\n\u001b[0;32m     <a href='file:///c%3A/Users/juanb/AppData/Local/Programs/Python/Python39/lib/site-packages/pandas/testing.py?line=15'>16</a>\u001b[0m     \u001b[39m\"\u001b[39m\u001b[39massert_series_equal\u001b[39m\u001b[39m\"\u001b[39m,\n\u001b[0;32m     <a href='file:///c%3A/Users/juanb/AppData/Local/Programs/Python/Python39/lib/site-packages/pandas/testing.py?line=16'>17</a>\u001b[0m     \u001b[39m\"\u001b[39m\u001b[39massert_index_equal\u001b[39m\u001b[39m\"\u001b[39m,\n\u001b[0;32m     <a href='file:///c%3A/Users/juanb/AppData/Local/Programs/Python/Python39/lib/site-packages/pandas/testing.py?line=17'>18</a>\u001b[0m ]\n",
      "File \u001b[1;32m~\\AppData\\Local\\Programs\\Python\\Python39\\lib\\site-packages\\pandas\\_testing\\__init__.py:974\u001b[0m, in \u001b[0;36m<module>\u001b[1;34m\u001b[0m\n\u001b[0;32m    <a href='file:///c%3A/Users/juanb/AppData/Local/Programs/Python/Python39/lib/site-packages/pandas/_testing/__init__.py?line=968'>969</a>\u001b[0m     \u001b[39mimport\u001b[39;00m \u001b[39mpytest\u001b[39;00m\n\u001b[0;32m    <a href='file:///c%3A/Users/juanb/AppData/Local/Programs/Python/Python39/lib/site-packages/pandas/_testing/__init__.py?line=970'>971</a>\u001b[0m     \u001b[39mreturn\u001b[39;00m pytest\u001b[39m.\u001b[39mraises(expected_exception, match\u001b[39m=\u001b[39m\u001b[39mNone\u001b[39;00m)  \u001b[39m# noqa: PDF010\u001b[39;00m\n\u001b[1;32m--> <a href='file:///c%3A/Users/juanb/AppData/Local/Programs/Python/Python39/lib/site-packages/pandas/_testing/__init__.py?line=973'>974</a>\u001b[0m cython_table \u001b[39m=\u001b[39m pd\u001b[39m.\u001b[39;49mcore\u001b[39m.\u001b[39mcommon\u001b[39m.\u001b[39m_cython_table\u001b[39m.\u001b[39mitems()\n\u001b[0;32m    <a href='file:///c%3A/Users/juanb/AppData/Local/Programs/Python/Python39/lib/site-packages/pandas/_testing/__init__.py?line=976'>977</a>\u001b[0m \u001b[39mdef\u001b[39;00m \u001b[39mget_cython_table_params\u001b[39m(ndframe, func_names_and_expected):\n\u001b[0;32m    <a href='file:///c%3A/Users/juanb/AppData/Local/Programs/Python/Python39/lib/site-packages/pandas/_testing/__init__.py?line=977'>978</a>\u001b[0m     \u001b[39m\"\"\"\u001b[39;00m\n\u001b[0;32m    <a href='file:///c%3A/Users/juanb/AppData/Local/Programs/Python/Python39/lib/site-packages/pandas/_testing/__init__.py?line=978'>979</a>\u001b[0m \u001b[39m    Combine frame, functions from com._cython_table\u001b[39;00m\n\u001b[0;32m    <a href='file:///c%3A/Users/juanb/AppData/Local/Programs/Python/Python39/lib/site-packages/pandas/_testing/__init__.py?line=979'>980</a>\u001b[0m \u001b[39m    keys and expected result.\u001b[39;00m\n\u001b[1;32m   (...)\u001b[0m\n\u001b[0;32m    <a href='file:///c%3A/Users/juanb/AppData/Local/Programs/Python/Python39/lib/site-packages/pandas/_testing/__init__.py?line=991'>992</a>\u001b[0m \u001b[39m        List of three items (DataFrame, function, expected result)\u001b[39;00m\n\u001b[0;32m    <a href='file:///c%3A/Users/juanb/AppData/Local/Programs/Python/Python39/lib/site-packages/pandas/_testing/__init__.py?line=992'>993</a>\u001b[0m \u001b[39m    \"\"\"\u001b[39;00m\n",
      "\u001b[1;31mAttributeError\u001b[0m: partially initialized module 'pandas' has no attribute 'core' (most likely due to a circular import)"
     ]
    }
   ],
   "source": [
    "import pandas as pd\n",
    "filename1 = 'rocket_league_skillshots.data'"
   ]
  }
 ],
 "metadata": {
  "interpreter": {
   "hash": "09ce84f14f8a7420599b8282869115fcc65438a5cd04e30ee6063cb81a22a355"
  },
  "kernelspec": {
   "display_name": "Python 3.9.7 64-bit",
   "language": "python",
   "name": "python3"
  },
  "language_info": {
   "codemirror_mode": {
    "name": "ipython",
    "version": 3
   },
   "file_extension": ".py",
   "mimetype": "text/x-python",
   "name": "python",
   "nbconvert_exporter": "python",
   "pygments_lexer": "ipython3",
   "version": "3.9.7"
  },
  "orig_nbformat": 4
 },
 "nbformat": 4,
 "nbformat_minor": 2
}
